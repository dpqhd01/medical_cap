{
  "nbformat": 4,
  "nbformat_minor": 0,
  "metadata": {
    "colab": {
      "provenance": [],
      "authorship_tag": "ABX9TyPsYQRoHO1Zu3J41Qg1RSeZ",
      "include_colab_link": true
    },
    "kernelspec": {
      "name": "python3",
      "display_name": "Python 3"
    },
    "language_info": {
      "name": "python"
    }
  },
  "cells": [
    {
      "cell_type": "markdown",
      "metadata": {
        "id": "view-in-github",
        "colab_type": "text"
      },
      "source": [
        "<a href=\"https://colab.research.google.com/github/dpqhd01/medical_cap/blob/main/Single%20Encoder%20Network_1000.ipynb\" target=\"_parent\"><img src=\"https://colab.research.google.com/assets/colab-badge.svg\" alt=\"Open In Colab\"/></a>"
      ]
    },
    {
      "cell_type": "markdown",
      "source": [
        "Single Encoder Network_1000"
      ],
      "metadata": {
        "id": "BvfVXxygb3Ep"
      }
    },
    {
      "cell_type": "code",
      "metadata": {
        "colab": {
          "base_uri": "https://localhost:8080/",
          "height": 1000
        },
        "id": "cU1YVQ_PuyTU",
        "outputId": "06a3da11-f3d3-4c58-c05f-71789c03b8c9"
      },
      "source": [
        "# ======================================#\n",
        "# 🔧 라이브러리 (Previous imports)\n",
        "# ======================================\n",
        "# import pandas as pd # Already imported\n",
        "# import numpy as np  # Already imported\n",
        "# import torch        # Already imported\n",
        "# import torch.nn as nn # Already imported\n",
        "# from torch.utils.data import Dataset, DataLoader # Already imported\n",
        "# from sklearn.metrics import classification_report, f1_score # Already imported\n",
        "# from sklearn.model_selection import train_test_split # Already imported\n",
        "# from tqdm import tqdm # Already imported\n",
        "# import matplotlib.pyplot as plt # Already imported\n",
        "\n",
        "# GPU 사용 가능하면 사용, 아니면 CPU 사용\n",
        "device = torch.device(\"cuda\" if torch.cuda.is_available() else \"cpu\")\n",
        "print(\"✅ Device:\", device)\n",
        "\n",
        "# ======================================#\n",
        "# 1️⃣ CSV 불러오기 (새로운 임베딩 파일 2개 + 정답지 파일 1개 로드)\n",
        "# ======================================\n",
        "try:\n",
        "    # Load the NEW embedding files\n",
        "    trial_embed_df = pd.read_csv(\"/content/sample_data/trial_embeddings_new.csv\")\n",
        "    hpo_embed_df = pd.read_csv(\"/content/sample_data/orpanet_embeddings_new.csv\") # Corrected filename\n",
        "    training_df = pd.read_csv(\"/content/sample_data/training_data.csv\")\n",
        "    print(\"✅ 모든 새로운 CSV 파일 로드 완료!\")\n",
        "except FileNotFoundError:\n",
        "    print(\"🔥🔥 오류: 필요한 새로운 CSV 파일 3개가 모두 업로드되었거나 경로가 올바른지 확인하세요.\")\n",
        "    # 필요한 파일이 없으면 여기서 중단\n",
        "    # No exit() here, just print error as per guidelines\n",
        "    # Assume dataframes are None if not loaded\n",
        "    trial_embed_df = None\n",
        "    hpo_embed_df = None\n",
        "    training_df = None\n",
        "\n",
        "\n",
        "if trial_embed_df is not None and hpo_embed_df is not None and training_df is not None:\n",
        "    print(\"Trial Embeddings (New) shape:\", trial_embed_df.shape)\n",
        "    print(\"HPO Embeddings (New) shape:\", hpo_embed_df.shape)\n",
        "    print(\"Training Data shape:\", training_df.shape)\n",
        "\n",
        "    # 벡터 부분만 numpy 배열로 추출 (첫 컬럼 제외)\n",
        "    trial_vecs = trial_embed_df.iloc[:, 1:].values.astype(np.float32)\n",
        "    hpo_vecs = hpo_embed_df.iloc[:, 1:].values.astype(np.float32)\n",
        "\n",
        "    # 원본 텍스트를 인덱스와 매핑하는 딕셔너리 생성 (벡터를 빠르게 찾기 위함)\n",
        "    trial_text_to_idx = {text: idx for idx, text in enumerate(trial_embed_df['original_text'])}\n",
        "    hpo_text_to_idx = {text: idx for idx, text in enumerate(hpo_embed_df['original_hpoterm'])}\n",
        "\n",
        "    # 임베딩 차원 확인 (Adjusted for the new embeddings)\n",
        "    embedding_dim = trial_vecs.shape[1] # Should be 384 now\n",
        "    print(f\"✅ 새로운 임베딩 차원: {embedding_dim}\")\n",
        "\n",
        "    # ======================================#\n",
        "    # 2️⃣ 입력 시퀀스 생성 (✨ training_data.csv 기반으로 수정!)\n",
        "    # ======================================#\n",
        "    pairs = []\n",
        "    labels = []\n",
        "    not_found_count = 0\n",
        "\n",
        "    print(\"\\n⏳ training_data.csv를 기반으로 벡터 쌍을 생성합니다...\")\n",
        "    # Using iterrows is inefficient for large data, but acceptable for 805 rows\n",
        "    for index, row in tqdm(training_df.iterrows(), total=len(training_df), desc=\"데이터 쌍 생성 중\"):\n",
        "        text_a = row['text_A']\n",
        "        text_b = row['text_B']\n",
        "        label = row['label']\n",
        "\n",
        "        # 각 텍스트에 해당하는 벡터의 인덱스를 찾음\n",
        "        idx_a = trial_text_to_idx.get(text_a)\n",
        "        idx_b = hpo_text_to_idx.get(text_b)\n",
        "\n",
        "        # 만약 텍스트를 임베딩 파일에서 찾을 수 있다면 벡터 쌍 생성\n",
        "        if idx_a is not None and idx_b is not None:\n",
        "            # 두 벡터를 쌓아서 하나의 입력으로 만듦 (shape: [2, embedding_dim])\n",
        "            pair_vec = np.stack([trial_vecs[idx_a], hpo_vecs[idx_b]], axis=0)\n",
        "            pairs.append(pair_vec)\n",
        "            labels.append(label)\n",
        "        else:\n",
        "            # 텍스트를 찾지 못한 경우 (오타 또는 누락) 카운트\n",
        "            not_found_count += 1\n",
        "            # print(f\"Warning: Cannot find vector for pair: '{text_a[:30]}...' or '{text_b[:30]}...'\")\n",
        "\n",
        "    if not_found_count > 0:\n",
        "        print(f\"⚠️ 경고: {not_found_count}개의 텍스트 쌍에 대한 벡터를 찾지 못했습니다. training_data.csv와 임베딩 파일의 텍스트가 일치하는지 확인하세요.\")\n",
        "\n",
        "    # 리스트를 numpy 배열로 변환\n",
        "    pairs = np.array(pairs)\n",
        "    labels = np.array(labels)\n",
        "\n",
        "    # 생성된 데이터 확인 (shape: [데이터 개수, 2, 임베딩 차원])\n",
        "    if len(pairs) > 0:\n",
        "        print(f\"✅ 입력 shape: {pairs.shape} | 라벨 수: {len(labels)}\")\n",
        "    else:\n",
        "        print(\"🔥🔥 오류: 유효한 벡터 쌍을 하나도 생성하지 못했습니다. CSV 파일들을 확인하세요.\")\n",
        "        # No exit() here, just print error as per guidelines\n",
        "        pairs = np.array([]) # Ensure pairs is an empty array if no data\n",
        "        labels = np.array([]) # Ensure labels is an empty array if no data\n",
        "\n",
        "\n",
        "    if len(pairs) > 0:\n",
        "        # ======================================#\n",
        "        # 3️⃣ Dataset 정의 (이전과 동일)\n",
        "        # ======================================\n",
        "        class EmbeddingDataset(Dataset):\n",
        "            def __init__(self, X, y):\n",
        "                self.X = torch.tensor(X, dtype=torch.float32)\n",
        "                self.y = torch.tensor(y, dtype=torch.float32)\n",
        "            def __len__(self): return len(self.X)\n",
        "            def __getitem__(self, idx): return self.X[idx], self.y[idx]\n",
        "\n",
        "        # 데이터를 학습용과 테스트용으로 분리 (80% 학습, 20% 테스트)\n",
        "        # Ensure there are enough samples for both classes after splitting\n",
        "        if len(np.unique(labels)) < 2 or np.min(np.bincount(labels)) < 2:\n",
        "             print(\"🔥🔥 오류: 학습/테스트 데이터 분리 후 각 클래스에 샘플이 부족합니다. 데이터셋 크기를 확인하세요.\")\n",
        "             X_train, X_test, y_train, y_test = np.array([]), np.array([]), np.array([]), np.array([])\n",
        "        else:\n",
        "            X_train, X_test, y_train, y_test = train_test_split(pairs, labels, test_size=0.2, random_state=42, stratify=labels) # stratify=labels 추가 (클래스 비율 유지)\n",
        "\n",
        "        if len(X_train) > 0 and len(X_test) > 0:\n",
        "            train_ds = EmbeddingDataset(X_train, y_train)\n",
        "            test_ds = EmbeddingDataset(X_test, y_test)\n",
        "\n",
        "            # DataLoader 설정 (데이터를 배치 단위로 묶어줌)\n",
        "            train_loader = DataLoader(train_ds, batch_size=32, shuffle=True)\n",
        "            test_loader = DataLoader(test_ds, batch_size=32)\n",
        "            print(f\"✅ 학습 데이터: {len(X_train)}개, 테스트 데이터: {len(X_test)}개\")\n",
        "\n",
        "            # ======================================#\n",
        "            # 4️⃣ LSTM 인코더 정의 (이전과 동일, input_dim이 새로운 임베딩 차원으로 자동 설정됨)\n",
        "            # ======================================\n",
        "            class LSTMVectorEncoder(nn.Module):\n",
        "                def __init__(self, input_dim, hidden_dim=128): # hidden_dim 조정 가능\n",
        "                    super(LSTMVectorEncoder, self).__init__()\n",
        "                    # input_dim은 벡터의 차원 (예: 384)\n",
        "                    # hidden_dim은 LSTM 내부 상태의 크기\n",
        "                    self.lstm = nn.LSTM(input_dim, hidden_dim, batch_first=True)\n",
        "                    self.dropout = nn.Dropout(0.3) # 과적합 방지\n",
        "                    self.fc = nn.Linear(hidden_dim, 1) # 최종 출력을 1개(확률)로 만듦\n",
        "\n",
        "                def forward(self, x):\n",
        "                    # x shape: (batch_size, 2, input_dim)\n",
        "                    # LSTM은 마지막 시점의 hidden state (h)만 사용\n",
        "                    _, (h, _) = self.lstm(x)\n",
        "                    # h shape: (num_layers * num_directions, batch_size, hidden_dim)\n",
        "                    # 마지막 레이어의 hidden state 사용 (h[-1])\n",
        "                    h = self.dropout(h[-1])\n",
        "                    out = self.fc(h)\n",
        "                    # sigmoid 함수를 통해 0~1 사이의 확률값으로 변환하고, 불필요한 차원 제거\n",
        "                    # Ensure output is always at least 1D\n",
        "                    return torch.sigmoid(out).squeeze(-1) if out.ndim > 1 else torch.sigmoid(out).squeeze()\n",
        "\n",
        "\n",
        "            # 모델, 손실 함수, 옵티마이저 정의 (input_dim is now the new embedding_dim)\n",
        "            model = LSTMVectorEncoder(input_dim=embedding_dim).to(device)\n",
        "            criterion = nn.BCELoss() # 이진 분류 손실 함수\n",
        "            optimizer = torch.optim.Adam(model.parameters(), lr=1e-4) # 학습률(lr) 조정 가능\n",
        "            print(\"\\n✅ LSTM 모델 정의 완료!\")\n",
        "\n",
        "            # ======================================#\n",
        "            # 5️⃣ 학습 루프 (이전과 동일, 에포크 수 조정 가능)\n",
        "            # ======================================\n",
        "            EPOCHS = 20 # 학습 반복 횟수\n",
        "            train_loss_list, val_f1_list = [], []\n",
        "\n",
        "            print(\"\\n⏳ 모델 학습을 시작합니다...\")\n",
        "            for epoch in range(EPOCHS):\n",
        "                model.train() # 학습 모드\n",
        "                total_loss = 0\n",
        "                # tqdm으로 진행률 표시\n",
        "                for Xb, yb in tqdm(train_loader, desc=f\"Epoch {epoch+1}/{EPOCHS} [학습]\"):\n",
        "                    Xb, yb = Xb.to(device), yb.to(device) # 데이터를 GPU/CPU로 보냄\n",
        "\n",
        "                    optimizer.zero_grad() # 이전 그래디언트 초기화\n",
        "                    outputs = model(Xb)   # 모델 예측\n",
        "                    loss = criterion(outputs, yb) # 손실 계산\n",
        "                    loss.backward()       # 역전파 (그래디언트 계산)\n",
        "                    optimizer.step()        # 모델 파라메터 업데이트\n",
        "                    total_loss += loss.item()\n",
        "\n",
        "                avg_loss = total_loss / len(train_loader)\n",
        "                train_loss_list.append(avg_loss)\n",
        "\n",
        "                # --- 검증 단계 ---\n",
        "                model.eval() # 평가 모드\n",
        "                all_preds, all_labels = [], []\n",
        "                with torch.no_grad(): # 그래디언트 계산 비활성화 (메모리 절약, 속도 향상)\n",
        "                    for Xb, yb in test_loader:\n",
        "                        Xb = Xb.to(device)\n",
        "                        probs = model(Xb).cpu().numpy() # 예측 확률값 (CPU로 이동)\n",
        "                        # Fix: Ensure preds is a list of integers\n",
        "                        preds = (probs > 0.5).astype(int)\n",
        "                        # Ensure preds is a list, even if it's a single value\n",
        "                        if preds.ndim == 0: # Handle scalar case (batch size 1)\n",
        "                            all_preds.append(int(preds))\n",
        "                        else: # Handle array case\n",
        "                            all_preds.extend(preds.tolist())\n",
        "\n",
        "                        all_labels.extend(yb.numpy().tolist()) # Also convert labels to list\n",
        "\n",
        "                # F1 Score 계산\n",
        "                f1 = f1_score(all_labels, all_preds, zero_division=0) # zero_division=0 추가 (0으로 나누는 경우 0점 처리)\n",
        "                val_f1_list.append(f1)\n",
        "                print(f\"Epoch [{epoch+1}/{EPOCHS}] | Loss: {avg_loss:.4f} | Val F1: {f1:.4f}\")\n",
        "\n",
        "            # ======================================#\n",
        "            # 6️⃣ 최종 평가 (이전과 동일)\n",
        "            # ======================================\n",
        "            print(\"\\n=== 최종 Classification Report (Single LSTM Encoder - New Embeddings) ===\")\n",
        "            # 최종 테스트 결과로 Classification Report 출력 (정밀도, 재현율, F1-Score 등)\n",
        "            print(classification_report(all_labels, all_preds, digits=4, zero_division=0))\n",
        "\n",
        "            # 학습 과정 시각화 (Loss와 F1-Score 변화)\n",
        "            plt.figure(figsize=(10, 5))\n",
        "            plt.plot(range(1, EPOCHS + 1), train_loss_list, label=\"Training Loss\", marker='o')\n",
        "            plt.plot(range(1, EPOCHS + 1), val_f1_list, label=\"Validation F1\", marker='o')\n",
        "            plt.title(\"LSTM Encoder Training Progress (New Embeddings)\")\n",
        "            plt.xlabel(\"Epoch\")\n",
        "            plt.ylabel(\"Loss / F1 Score\")\n",
        "            plt.xticks(range(1, EPOCHS + 1)) # x축 눈금을 정수로 표시\n",
        "            plt.legend()\n",
        "            plt.grid(True)\n",
        "            plt.show()\n",
        "        else:\n",
        "            print(\"🔥🔥 오류: 학습 또는 테스트 데이터셋 크기가 0입니다. 데이터 분리 설정을 확인하세요.\")\n",
        "    else:\n",
        "        print(\"🔥🔥 오류: 유효한 데이터 쌍이 없어 모델 학습을 진행할 수 없습니다.\")\n",
        "\n",
        "else:\n",
        "    print(\"🔥🔥 오류: 필요한 데이터프레임이 로드되지 않아 처리를 계속할 수 없습니다.\")"
      ],
      "execution_count": 8,
      "outputs": [
        {
          "output_type": "stream",
          "name": "stdout",
          "text": [
            "✅ Device: cpu\n",
            "✅ 모든 새로운 CSV 파일 로드 완료!\n",
            "Trial Embeddings (New) shape: (805, 385)\n",
            "HPO Embeddings (New) shape: (805, 385)\n",
            "Training Data shape: (805, 3)\n",
            "✅ 새로운 임베딩 차원: 384\n",
            "\n",
            "⏳ training_data.csv를 기반으로 벡터 쌍을 생성합니다...\n"
          ]
        },
        {
          "output_type": "stream",
          "name": "stderr",
          "text": [
            "데이터 쌍 생성 중: 100%|██████████| 805/805 [00:00<00:00, 7057.90it/s]\n"
          ]
        },
        {
          "output_type": "stream",
          "name": "stdout",
          "text": [
            "✅ 입력 shape: (805, 2, 384) | 라벨 수: 805\n",
            "✅ 학습 데이터: 644개, 테스트 데이터: 161개\n",
            "\n",
            "✅ LSTM 모델 정의 완료!\n",
            "\n",
            "⏳ 모델 학습을 시작합니다...\n"
          ]
        },
        {
          "output_type": "stream",
          "name": "stderr",
          "text": [
            "Epoch 1/20 [학습]: 100%|██████████| 21/21 [00:00<00:00, 59.20it/s]\n"
          ]
        },
        {
          "output_type": "stream",
          "name": "stdout",
          "text": [
            "Epoch [1/20] | Loss: 0.6828 | Val F1: 0.8582\n"
          ]
        },
        {
          "output_type": "stream",
          "name": "stderr",
          "text": [
            "Epoch 2/20 [학습]: 100%|██████████| 21/21 [00:00<00:00, 76.46it/s]\n"
          ]
        },
        {
          "output_type": "stream",
          "name": "stdout",
          "text": [
            "Epoch [2/20] | Loss: 0.6694 | Val F1: 0.8582\n"
          ]
        },
        {
          "output_type": "stream",
          "name": "stderr",
          "text": [
            "Epoch 3/20 [학습]: 100%|██████████| 21/21 [00:00<00:00, 79.48it/s]\n"
          ]
        },
        {
          "output_type": "stream",
          "name": "stdout",
          "text": [
            "Epoch [3/20] | Loss: 0.6593 | Val F1: 0.8582\n"
          ]
        },
        {
          "output_type": "stream",
          "name": "stderr",
          "text": [
            "Epoch 4/20 [학습]: 100%|██████████| 21/21 [00:00<00:00, 73.80it/s]\n"
          ]
        },
        {
          "output_type": "stream",
          "name": "stdout",
          "text": [
            "Epoch [4/20] | Loss: 0.6465 | Val F1: 0.8582\n"
          ]
        },
        {
          "output_type": "stream",
          "name": "stderr",
          "text": [
            "Epoch 5/20 [학습]: 100%|██████████| 21/21 [00:00<00:00, 30.96it/s]\n"
          ]
        },
        {
          "output_type": "stream",
          "name": "stdout",
          "text": [
            "Epoch [5/20] | Loss: 0.6299 | Val F1: 0.8582\n"
          ]
        },
        {
          "output_type": "stream",
          "name": "stderr",
          "text": [
            "Epoch 6/20 [학습]: 100%|██████████| 21/21 [00:00<00:00, 115.79it/s]"
          ]
        },
        {
          "output_type": "stream",
          "name": "stdout",
          "text": [
            "Epoch [6/20] | Loss: 0.6084 | Val F1: 0.8582\n"
          ]
        },
        {
          "output_type": "stream",
          "name": "stderr",
          "text": [
            "\n",
            "Epoch 7/20 [학습]: 100%|██████████| 21/21 [00:00<00:00, 113.38it/s]\n"
          ]
        },
        {
          "output_type": "stream",
          "name": "stdout",
          "text": [
            "Epoch [7/20] | Loss: 0.6032 | Val F1: 0.8582\n"
          ]
        },
        {
          "output_type": "stream",
          "name": "stderr",
          "text": [
            "Epoch 8/20 [학습]: 100%|██████████| 21/21 [00:00<00:00, 120.13it/s]\n"
          ]
        },
        {
          "output_type": "stream",
          "name": "stdout",
          "text": [
            "Epoch [8/20] | Loss: 0.5714 | Val F1: 0.8582\n"
          ]
        },
        {
          "output_type": "stream",
          "name": "stderr",
          "text": [
            "Epoch 9/20 [학습]: 100%|██████████| 21/21 [00:00<00:00, 125.15it/s]\n"
          ]
        },
        {
          "output_type": "stream",
          "name": "stdout",
          "text": [
            "Epoch [9/20] | Loss: 0.5522 | Val F1: 0.8582\n"
          ]
        },
        {
          "output_type": "stream",
          "name": "stderr",
          "text": [
            "Epoch 10/20 [학습]: 100%|██████████| 21/21 [00:00<00:00, 123.65it/s]\n"
          ]
        },
        {
          "output_type": "stream",
          "name": "stdout",
          "text": [
            "Epoch [10/20] | Loss: 0.5276 | Val F1: 0.8582\n"
          ]
        },
        {
          "output_type": "stream",
          "name": "stderr",
          "text": [
            "Epoch 11/20 [학습]: 100%|██████████| 21/21 [00:00<00:00, 128.14it/s]\n"
          ]
        },
        {
          "output_type": "stream",
          "name": "stdout",
          "text": [
            "Epoch [11/20] | Loss: 0.5225 | Val F1: 0.8582\n"
          ]
        },
        {
          "output_type": "stream",
          "name": "stderr",
          "text": [
            "Epoch 12/20 [학습]: 100%|██████████| 21/21 [00:00<00:00, 111.64it/s]\n"
          ]
        },
        {
          "output_type": "stream",
          "name": "stdout",
          "text": [
            "Epoch [12/20] | Loss: 0.5094 | Val F1: 0.8582\n"
          ]
        },
        {
          "output_type": "stream",
          "name": "stderr",
          "text": [
            "Epoch 13/20 [학습]: 100%|██████████| 21/21 [00:00<00:00, 126.99it/s]\n"
          ]
        },
        {
          "output_type": "stream",
          "name": "stdout",
          "text": [
            "Epoch [13/20] | Loss: 0.5126 | Val F1: 0.8582\n"
          ]
        },
        {
          "output_type": "stream",
          "name": "stderr",
          "text": [
            "Epoch 14/20 [학습]: 100%|██████████| 21/21 [00:00<00:00, 127.59it/s]\n"
          ]
        },
        {
          "output_type": "stream",
          "name": "stdout",
          "text": [
            "Epoch [14/20] | Loss: 0.4949 | Val F1: 0.8582\n"
          ]
        },
        {
          "output_type": "stream",
          "name": "stderr",
          "text": [
            "Epoch 15/20 [학습]: 100%|██████████| 21/21 [00:00<00:00, 116.43it/s]"
          ]
        },
        {
          "output_type": "stream",
          "name": "stdout",
          "text": [
            "Epoch [15/20] | Loss: 0.4792 | Val F1: 0.8582\n"
          ]
        },
        {
          "output_type": "stream",
          "name": "stderr",
          "text": [
            "\n",
            "Epoch 16/20 [학습]: 100%|██████████| 21/21 [00:00<00:00, 86.78it/s]\n"
          ]
        },
        {
          "output_type": "stream",
          "name": "stdout",
          "text": [
            "Epoch [16/20] | Loss: 0.4736 | Val F1: 0.8582\n"
          ]
        },
        {
          "output_type": "stream",
          "name": "stderr",
          "text": [
            "Epoch 17/20 [학습]: 100%|██████████| 21/21 [00:00<00:00, 80.23it/s]\n"
          ]
        },
        {
          "output_type": "stream",
          "name": "stdout",
          "text": [
            "Epoch [17/20] | Loss: 0.4802 | Val F1: 0.8582\n"
          ]
        },
        {
          "output_type": "stream",
          "name": "stderr",
          "text": [
            "Epoch 18/20 [학습]: 100%|██████████| 21/21 [00:00<00:00, 90.44it/s]\n"
          ]
        },
        {
          "output_type": "stream",
          "name": "stdout",
          "text": [
            "Epoch [18/20] | Loss: 0.4947 | Val F1: 0.8582\n"
          ]
        },
        {
          "output_type": "stream",
          "name": "stderr",
          "text": [
            "Epoch 19/20 [학습]: 100%|██████████| 21/21 [00:00<00:00, 91.90it/s]\n"
          ]
        },
        {
          "output_type": "stream",
          "name": "stdout",
          "text": [
            "Epoch [19/20] | Loss: 0.4952 | Val F1: 0.8582\n"
          ]
        },
        {
          "output_type": "stream",
          "name": "stderr",
          "text": [
            "Epoch 20/20 [학습]: 100%|██████████| 21/21 [00:00<00:00, 91.55it/s]\n"
          ]
        },
        {
          "output_type": "stream",
          "name": "stdout",
          "text": [
            "Epoch [20/20] | Loss: 0.4691 | Val F1: 0.8582\n",
            "\n",
            "=== 최종 Classification Report (Single LSTM Encoder - New Embeddings) ===\n",
            "              precision    recall  f1-score   support\n",
            "\n",
            "         0.0     0.0000    0.0000    0.0000        40\n",
            "         1.0     0.7516    1.0000    0.8582       121\n",
            "\n",
            "    accuracy                         0.7516       161\n",
            "   macro avg     0.3758    0.5000    0.4291       161\n",
            "weighted avg     0.5648    0.7516    0.6449       161\n",
            "\n"
          ]
        },
        {
          "output_type": "display_data",
          "data": {
            "text/plain": [
              "<Figure size 1000x500 with 1 Axes>"
            ],
            "image/png": "[encoded data removed]"
          },
          "metadata": {}
        }
      ]
    }
  ]
}