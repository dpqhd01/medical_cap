{
  "cells": [
    {
      "cell_type": "markdown",
      "metadata": {
        "id": "view-in-github",
        "colab_type": "text"
      },
      "source": [
        "<a href=\"https://colab.research.google.com/github/dpqhd01/medical_cap/blob/main/Colab_SiameseNetworkLSTM.ipynb\" target=\"_parent\"><img src=\"https://colab.research.google.com/assets/colab-badge.svg\" alt=\"Open In Colab\"/></a>"
      ]
    },
    {
      "cell_type": "code",
      "source": [
        "# ======================================\n",
        "# 🔧 0. 라이브러리\n",
        "# ======================================\n",
        "import pandas as pd\n",
        "import numpy as np\n",
        "import torch\n",
        "import torch.nn as nn\n",
        "from torch.utils.data import Dataset, DataLoader\n",
        "from sklearn.metrics import f1_score, classification_report\n",
        "from sklearn.model_selection import train_test_split\n",
        "from tqdm import tqdm\n",
        "import matplotlib.pyplot as plt\n",
        "\n",
        "device = torch.device(\"cuda\" if torch.cuda.is_available() else \"cpu\")\n",
        "print(\"✅ Device:\", device)\n",
        "\n",
        "# ======================================\n",
        "# 1️⃣ CSV 로드 + 전처리\n",
        "# ======================================\n",
        "emb_a = pd.read_csv('/content/trial_embeddings.csv')       # 임상시험\n",
        "emb_b = pd.read_csv('/content/orpanet_embeddings.csv')     # 희귀질환\n",
        "train_df = pd.read_csv('/content/training_data.csv')       # text_A, text_B, label\n",
        "\n",
        "# 공백/소문자 정규화 (매칭률 향상)\n",
        "for df, col in [(emb_a, 'original_text'), (emb_b, 'original_hpoterm'),\n",
        "                (train_df, 'text_A'), (train_df, 'text_B')]:\n",
        "    df[col] = df[col].astype(str).str.strip().str.lower()\n",
        "\n",
        "print(\"데이터 크기:\", train_df.shape)\n",
        "print(train_df.head())\n",
        "\n",
        "# ======================================\n",
        "# 2️⃣ 매핑 딕셔너리 생성\n",
        "# ======================================\n",
        "vec_a = {row['original_text']: np.array(row.iloc[1:], dtype=np.float32) for _, row in emb_a.iterrows()}\n",
        "vec_b = {row['original_hpoterm']: np.array(row.iloc[1:], dtype=np.float32) for _, row in emb_b.iterrows()}\n",
        "\n",
        "# ======================================\n",
        "# 3️⃣ 벡터 매칭\n",
        "# ======================================\n",
        "pairs, labels = [], []\n",
        "missing = 0\n",
        "for _, row in train_df.iterrows():\n",
        "    a_vec = vec_a.get(row['text_A'])\n",
        "    b_vec = vec_b.get(row['text_B'])\n",
        "    if a_vec is None or b_vec is None:\n",
        "        missing += 1\n",
        "        continue\n",
        "    pairs.append(np.concatenate([a_vec, b_vec]))\n",
        "    labels.append(row['label'])\n",
        "\n",
        "print(f\"⚠️ 누락된 매핑 {missing}건 제외됨.\")\n",
        "X = np.vstack(pairs)\n",
        "y = np.array(labels, dtype=np.float32)\n",
        "print(\"입력 벡터 shape:\", X.shape)\n",
        "\n",
        "# ======================================\n",
        "# 4️⃣ 데이터 균형 조정\n",
        "# ======================================\n",
        "unique, counts = np.unique(y, return_counts=True)\n",
        "print(\"데이터 분포:\", dict(zip(unique, counts)))\n",
        "\n",
        "if len(counts) == 2 and counts[0] != counts[1]:\n",
        "    from sklearn.utils import resample\n",
        "    pos_idx = np.where(y == 1)[0]\n",
        "    neg_idx = np.where(y == 0)[0]\n",
        "    if len(pos_idx) > 0 and len(neg_idx) > 0:\n",
        "        if len(pos_idx) > len(neg_idx):\n",
        "            neg_up = resample(neg_idx, replace=True, n_samples=len(pos_idx), random_state=42)\n",
        "            idx_bal = np.concatenate([pos_idx, neg_up])\n",
        "        else:\n",
        "            pos_up = resample(pos_idx, replace=True, n_samples=len(neg_idx), random_state=42)\n",
        "            idx_bal = np.concatenate([pos_up, neg_idx])\n",
        "        X, y = X[idx_bal], y[idx_bal]\n",
        "        print(\"✅ 데이터 균형 조정 완료:\", np.unique(y, return_counts=True)[1])\n",
        "\n",
        "# ======================================\n",
        "# 5️⃣ Dataset / DataLoader\n",
        "# ======================================\n",
        "class VectorDataset(Dataset):\n",
        "    def __init__(self, X, y):\n",
        "        self.X = torch.tensor(X, dtype=torch.float32)\n",
        "        self.y = torch.tensor(y, dtype=torch.float32)\n",
        "    def __len__(self): return len(self.X)\n",
        "    def __getitem__(self, idx): return self.X[idx], self.y[idx]\n",
        "\n",
        "X_train, X_test, y_train, y_test = train_test_split(X, y, test_size=0.2, random_state=42)\n",
        "train_loader = DataLoader(VectorDataset(X_train, y_train), batch_size=32, shuffle=True)\n",
        "test_loader = DataLoader(VectorDataset(X_test, y_test), batch_size=32, shuffle=False)\n",
        "\n",
        "# ======================================\n",
        "# 6️⃣ LSTM 인코더 정의\n",
        "# ======================================\n",
        "class LSTMEncoder(nn.Module):\n",
        "    def __init__(self, input_dim, hidden_dim=256, num_layers=2, dropout=0.3):\n",
        "        super().__init__()\n",
        "        self.lstm = nn.LSTM(input_dim, hidden_dim, num_layers=num_layers, batch_first=True, dropout=dropout)\n",
        "        self.fc = nn.Linear(hidden_dim, 1)\n",
        "    def forward(self, x):\n",
        "        # x: (batch, input_dim)\n",
        "        x = x.unsqueeze(1)  # (batch, seq_len=1, input_dim)\n",
        "        _, (h, _) = self.lstm(x)\n",
        "        out = self.fc(h[-1])\n",
        "        return out.squeeze()\n",
        "\n",
        "input_dim = X.shape[1]\n",
        "model = LSTMEncoder(input_dim=input_dim).to(device)\n",
        "\n",
        "criterion = nn.BCEWithLogitsLoss()\n",
        "optimizer = torch.optim.Adam(model.parameters(), lr=1e-3)\n",
        "scheduler = torch.optim.lr_scheduler.ReduceLROnPlateau(optimizer, mode='max', factor=0.5, patience=2)\n",
        "\n",
        "# ======================================\n",
        "# 7️⃣ 학습 루프 (F1 저장 강화)\n",
        "# ======================================\n",
        "train_loss_list, val_f1_list = [], []\n",
        "best_f1, patience = 0, 4\n",
        "\n",
        "for epoch in range(30):\n",
        "    model.train()\n",
        "    total_loss = 0\n",
        "    for xb, yb in tqdm(train_loader, desc=f\"Epoch {epoch+1}\"):\n",
        "        xb, yb = xb.to(device), yb.to(device)\n",
        "        optimizer.zero_grad()\n",
        "        logits = model(xb)\n",
        "        loss = criterion(logits, yb)\n",
        "        loss.backward()\n",
        "        optimizer.step()\n",
        "        total_loss += loss.item()\n",
        "    avg_loss = total_loss / len(train_loader)\n",
        "    train_loss_list.append(avg_loss)\n",
        "\n",
        "    # Validation\n",
        "    model.eval()\n",
        "    preds, trues = [], []\n",
        "    with torch.no_grad():\n",
        "        for xb, yb in test_loader:\n",
        "            xb = xb.to(device)\n",
        "            probs = torch.sigmoid(model(xb)).cpu().numpy()\n",
        "            preds.extend((probs > 0.5).astype(int))\n",
        "            trues.extend(yb.numpy())\n",
        "    f1 = f1_score(trues, preds, zero_division=0)\n",
        "    val_f1_list.append(f1)\n",
        "    print(f\"Epoch [{epoch+1}/30] | Loss: {avg_loss:.4f} | F1: {f1:.4f}\")\n",
        "    scheduler.step(f1)\n",
        "\n",
        "    # 항상 저장 (F1=0이어도)\n",
        "    if f1 >= best_f1:\n",
        "        best_f1 = f1\n",
        "        patience = 4\n",
        "        torch.save(model.state_dict(), \"/content/best_vec_lstm.pt\")\n",
        "        print(f\"💾 모델 저장 (F1={best_f1:.4f})\")\n",
        "    else:\n",
        "        patience -= 1\n",
        "        if patience == 0:\n",
        "            print(\"🛑 Early stopping at epoch\", epoch+1)\n",
        "            break\n",
        "\n",
        "# ======================================\n",
        "# 8️⃣ 최종 평가\n",
        "# ======================================\n",
        "model.load_state_dict(torch.load(\"/content/best_vec_lstm.pt\"))\n",
        "model.eval()\n",
        "preds, trues = [], []\n",
        "with torch.no_grad():\n",
        "    for xb, yb in test_loader:\n",
        "        xb = xb.to(device)\n",
        "        probs = torch.sigmoid(model(xb)).cpu().numpy()\n",
        "        preds.extend((probs > 0.5).astype(int))\n",
        "        trues.extend(yb.numpy())\n",
        "\n",
        "print(\"\\n=== 최종 Classification Report (Vector-LSTM) ===\")\n",
        "print(classification_report(trues, preds, digits=4))\n",
        "\n",
        "plt.figure(figsize=(8,4))\n",
        "plt.plot(train_loss_list, label=\"Train Loss\", marker='o')\n",
        "plt.plot(val_f1_list, label=\"Validation F1\", marker='o')\n",
        "plt.title(\"LSTM Training (Stable F1 Tracking)\")\n",
        "plt.xlabel(\"Epoch\")\n",
        "plt.legend()\n",
        "plt.grid()\n",
        "plt.show()\n"
      ],
      "metadata": {
        "id": "-vFsm2SXtczd",
        "outputId": "895daa26-3d5e-4654-b07a-51836b292b0b",
        "colab": {
          "base_uri": "https://localhost:8080/",
          "height": 1000
        }
      },
      "execution_count": 6,
      "outputs": [
        {
          "output_type": "stream",
          "name": "stdout",
          "text": [
            "✅ Device: cpu\n",
            "데이터 크기: (805, 3)\n",
            "                                              text_A  \\\n",
            "0  inclusion criteria:\\n\\n* patients presenting a...   \n",
            "1  inclusion criteria:\\n\\n* histologically confir...   \n",
            "2  inclusion criteria\\n\\n* signed and dated insti...   \n",
            "3  inclusion criteria:\\n\\n* patients ≤18 years ol...   \n",
            "4  inclusion criteria:\\n\\n* patients must have an...   \n",
            "\n",
            "                     text_B  label  \n",
            "0                dysarthria      0  \n",
            "1        ulcerative colitis      1  \n",
            "2  congestive heart failure      1  \n",
            "3         abnormal bleeding      0  \n",
            "4     myocardial infarction      1  \n",
            "⚠️ 누락된 매핑 0건 제외됨.\n",
            "입력 벡터 shape: (805, 1024)\n",
            "데이터 분포: {np.float32(0.0): np.int64(200), np.float32(1.0): np.int64(605)}\n",
            "✅ 데이터 균형 조정 완료: [605 605]\n"
          ]
        },
        {
          "output_type": "stream",
          "name": "stderr",
          "text": [
            "Epoch 1: 100%|██████████| 31/31 [00:01<00:00, 29.15it/s]\n"
          ]
        },
        {
          "output_type": "stream",
          "name": "stdout",
          "text": [
            "Epoch [1/30] | Loss: 0.6513 | F1: 0.8729\n",
            "💾 모델 저장 (F1=0.8729)\n"
          ]
        },
        {
          "output_type": "stream",
          "name": "stderr",
          "text": [
            "Epoch 2: 100%|██████████| 31/31 [00:01<00:00, 28.86it/s]\n"
          ]
        },
        {
          "output_type": "stream",
          "name": "stdout",
          "text": [
            "Epoch [2/30] | Loss: 0.3727 | F1: 0.9219\n",
            "💾 모델 저장 (F1=0.9219)\n"
          ]
        },
        {
          "output_type": "stream",
          "name": "stderr",
          "text": [
            "Epoch 3: 100%|██████████| 31/31 [00:01<00:00, 28.59it/s]\n"
          ]
        },
        {
          "output_type": "stream",
          "name": "stdout",
          "text": [
            "Epoch [3/30] | Loss: 0.2458 | F1: 0.9219\n",
            "💾 모델 저장 (F1=0.9219)\n"
          ]
        },
        {
          "output_type": "stream",
          "name": "stderr",
          "text": [
            "Epoch 4: 100%|██████████| 31/31 [00:01<00:00, 29.05it/s]\n"
          ]
        },
        {
          "output_type": "stream",
          "name": "stdout",
          "text": [
            "Epoch [4/30] | Loss: 0.1769 | F1: 0.9312\n",
            "💾 모델 저장 (F1=0.9312)\n"
          ]
        },
        {
          "output_type": "stream",
          "name": "stderr",
          "text": [
            "Epoch 5: 100%|██████████| 31/31 [00:01<00:00, 27.82it/s]\n"
          ]
        },
        {
          "output_type": "stream",
          "name": "stdout",
          "text": [
            "Epoch [5/30] | Loss: 0.1469 | F1: 0.9498\n",
            "💾 모델 저장 (F1=0.9498)\n"
          ]
        },
        {
          "output_type": "stream",
          "name": "stderr",
          "text": [
            "Epoch 6: 100%|██████████| 31/31 [00:01<00:00, 26.41it/s]\n"
          ]
        },
        {
          "output_type": "stream",
          "name": "stdout",
          "text": [
            "Epoch [6/30] | Loss: 0.1438 | F1: 0.9453\n"
          ]
        },
        {
          "output_type": "stream",
          "name": "stderr",
          "text": [
            "Epoch 7: 100%|██████████| 31/31 [00:01<00:00, 19.89it/s]\n"
          ]
        },
        {
          "output_type": "stream",
          "name": "stdout",
          "text": [
            "Epoch [7/30] | Loss: 0.1078 | F1: 0.9494\n"
          ]
        },
        {
          "output_type": "stream",
          "name": "stderr",
          "text": [
            "Epoch 8: 100%|██████████| 31/31 [00:01<00:00, 19.44it/s]\n"
          ]
        },
        {
          "output_type": "stream",
          "name": "stdout",
          "text": [
            "Epoch [8/30] | Loss: 0.0916 | F1: 0.9344\n"
          ]
        },
        {
          "output_type": "stream",
          "name": "stderr",
          "text": [
            "Epoch 9: 100%|██████████| 31/31 [00:01<00:00, 27.87it/s]\n"
          ]
        },
        {
          "output_type": "stream",
          "name": "stdout",
          "text": [
            "Epoch [9/30] | Loss: 0.0837 | F1: 0.9470\n",
            "🛑 Early stopping at epoch 9\n",
            "\n",
            "=== 최종 Classification Report (Vector-LSTM) ===\n",
            "              precision    recall  f1-score   support\n",
            "\n",
            "         0.0     0.9381    0.9464    0.9422       112\n",
            "         1.0     0.9535    0.9462    0.9498       130\n",
            "\n",
            "    accuracy                         0.9463       242\n",
            "   macro avg     0.9458    0.9463    0.9460       242\n",
            "weighted avg     0.9463    0.9463    0.9463       242\n",
            "\n"
          ]
        },
        {
          "output_type": "display_data",
          "data": {
            "text/plain": [
              "<Figure size 800x400 with 1 Axes>"
            ],
            "image/png": "[encoded data removed]"
          },
          "metadata": {}
        }
      ]
    },
    {
      "cell_type": "markdown",
      "source": [
        "샴 네트워크 상 인코더(LSTM)"
      ],
      "metadata": {
        "id": "iBtuFXYUyK1N"
      }
    },
    {
      "cell_type": "code",
      "source": [
        "# ======================================\n",
        "# 🔧 0. 라이브러리 + 재현성 설정\n",
        "# ======================================\n",
        "import os, random\n",
        "import pandas as pd\n",
        "import numpy as np\n",
        "import torch\n",
        "import torch.nn as nn\n",
        "from torch.utils.data import Dataset, DataLoader\n",
        "from sklearn.metrics import f1_score, classification_report\n",
        "from sklearn.model_selection import train_test_split\n",
        "from sklearn.utils import resample\n",
        "from tqdm import tqdm\n",
        "import matplotlib.pyplot as plt\n",
        "\n",
        "# --- 재현성 보장 ---\n",
        "seed = 42\n",
        "random.seed(seed)\n",
        "np.random.seed(seed)\n",
        "torch.manual_seed(seed)\n",
        "torch.cuda.manual_seed_all(seed)\n",
        "torch.backends.cudnn.deterministic = True\n",
        "torch.backends.cudnn.benchmark = False\n",
        "torch.use_deterministic_algorithms(True, warn_only=True)\n",
        "os.environ[\"PYTHONHASHSEED\"] = str(seed)\n",
        "\n",
        "device = torch.device(\"cuda\" if torch.cuda.is_available() else \"cpu\")\n",
        "print(\"✅ Device:\", device)\n",
        "\n",
        "# ======================================\n",
        "# 1️⃣ 데이터 로드 + 전처리\n",
        "# ======================================\n",
        "emb_a = pd.read_csv('/content/trial_embeddings.csv')       # 임상시험\n",
        "emb_b = pd.read_csv('/content/orpanet_embeddings.csv')     # 희귀질환\n",
        "train_df = pd.read_csv('/content/training_data.csv')       # text_A, text_B, label\n",
        "\n",
        "for df, col in [(emb_a, 'original_text'), (emb_b, 'original_hpoterm'),\n",
        "                (train_df, 'text_A'), (train_df, 'text_B')]:\n",
        "    df[col] = df[col].astype(str).str.strip().str.lower()\n",
        "\n",
        "vec_a = {row['original_text']: np.array(row.iloc[1:], dtype=np.float32) for _, row in emb_a.iterrows()}\n",
        "vec_b = {row['original_hpoterm']: np.array(row.iloc[1:], dtype=np.float32) for _, row in emb_b.iterrows()}\n",
        "\n",
        "pairs_a, pairs_b, labels = [], [], []\n",
        "missing = 0\n",
        "for _, row in train_df.iterrows():\n",
        "    a_vec = vec_a.get(row['text_A'])\n",
        "    b_vec = vec_b.get(row['text_B'])\n",
        "    if a_vec is None or b_vec is None:\n",
        "        missing += 1\n",
        "        continue\n",
        "    pairs_a.append(a_vec)\n",
        "    pairs_b.append(b_vec)\n",
        "    labels.append(row['label'])\n",
        "\n",
        "print(f\"⚠️ 누락된 매핑 {missing}건 제외됨.\")\n",
        "X_a, X_b, y = np.vstack(pairs_a), np.vstack(pairs_b), np.array(labels, dtype=np.float32)\n",
        "print(\"입력 shape:\", X_a.shape, X_b.shape)\n",
        "\n",
        "# ======================================\n",
        "# 2️⃣ 데이터 균형 조정\n",
        "# ======================================\n",
        "unique, counts = np.unique(y, return_counts=True)\n",
        "print(\"데이터 분포:\", dict(zip(unique, counts)))\n",
        "\n",
        "if len(counts) == 2 and counts[0] != counts[1]:\n",
        "    pos_idx = np.where(y == 1)[0]\n",
        "    neg_idx = np.where(y == 0)[0]\n",
        "    if len(pos_idx) > len(neg_idx):\n",
        "        neg_up = resample(neg_idx, replace=True, n_samples=len(pos_idx), random_state=42)\n",
        "        idx_bal = np.concatenate([pos_idx, neg_up])\n",
        "    else:\n",
        "        pos_up = resample(pos_idx, replace=True, n_samples=len(neg_idx), random_state=42)\n",
        "        idx_bal = np.concatenate([pos_up, neg_idx])\n",
        "    X_a, X_b, y = X_a[idx_bal], X_b[idx_bal], y[idx_bal]\n",
        "    print(\"✅ 데이터 균형 조정 완료:\", np.unique(y, return_counts=True)[1])\n",
        "\n",
        "# ======================================\n",
        "# 3️⃣ Dataset / DataLoader\n",
        "# ======================================\n",
        "class SiameseVectorDataset(Dataset):\n",
        "    def __init__(self, X_a, X_b, y):\n",
        "        self.X_a = torch.tensor(X_a, dtype=torch.float32)\n",
        "        self.X_b = torch.tensor(X_b, dtype=torch.float32)\n",
        "        self.y = torch.tensor(y, dtype=torch.float32)\n",
        "    def __len__(self): return len(self.X_a)\n",
        "    def __getitem__(self, idx): return self.X_a[idx], self.X_b[idx], self.y[idx]\n",
        "\n",
        "X_a_train, X_a_test, X_b_train, X_b_test, y_train, y_test = train_test_split(\n",
        "    X_a, X_b, y, test_size=0.2, random_state=42\n",
        ")\n",
        "train_loader = DataLoader(SiameseVectorDataset(X_a_train, X_b_train, y_train), batch_size=32, shuffle=True)\n",
        "test_loader = DataLoader(SiameseVectorDataset(X_a_test, X_b_test, y_test), batch_size=32, shuffle=False)\n",
        "\n",
        "# ======================================\n",
        "# 4️⃣ Siamese LSTM 인코더 정의\n",
        "# ======================================\n",
        "class LSTMEncoder(nn.Module):\n",
        "    def __init__(self, input_dim, hidden_dim=256, num_layers=2, dropout=0.3):\n",
        "        super().__init__()\n",
        "        self.lstm = nn.LSTM(input_dim, hidden_dim, num_layers=num_layers,\n",
        "                            batch_first=True, dropout=dropout)\n",
        "    def forward(self, x):\n",
        "        x = x.unsqueeze(1)                # (batch, seq_len=1, input_dim)\n",
        "        _, (h, _) = self.lstm(x)          # h[-1]: (batch, hidden_dim)\n",
        "        return h[-1]\n",
        "\n",
        "class SiameseLSTM(nn.Module):\n",
        "    def __init__(self, input_dim, hidden_dim=256):\n",
        "        super().__init__()\n",
        "        self.encoder = LSTMEncoder(input_dim, hidden_dim)\n",
        "        self.fc = nn.Sequential(\n",
        "            nn.Linear(hidden_dim, 128),\n",
        "            nn.ReLU(),\n",
        "            nn.Dropout(0.3),\n",
        "            nn.Linear(128, 1)\n",
        "        )\n",
        "    def forward(self, x1, x2):\n",
        "        h1 = self.encoder(x1)\n",
        "        h2 = self.encoder(x2)\n",
        "        diff = torch.abs(h1 - h2)   # |h1 - h2| : 유사도 학습 핵심\n",
        "        out = self.fc(diff)\n",
        "        return out.squeeze()\n",
        "\n",
        "# ======================================\n",
        "# 5️⃣ 학습 준비\n",
        "# ======================================\n",
        "input_dim = X_a.shape[1]\n",
        "model = SiameseLSTM(input_dim=input_dim).to(device)\n",
        "\n",
        "criterion = nn.BCEWithLogitsLoss()\n",
        "optimizer = torch.optim.Adam(model.parameters(), lr=1e-3)\n",
        "scheduler = torch.optim.lr_scheduler.ReduceLROnPlateau(optimizer, mode='max', factor=0.5, patience=2)\n",
        "\n",
        "train_loss_list, val_f1_list = [], []\n",
        "best_f1, patience = 0, 4\n",
        "\n",
        "# ======================================\n",
        "# 6️⃣ 학습 루프\n",
        "# ======================================\n",
        "for epoch in range(30):\n",
        "    model.train()\n",
        "    total_loss = 0\n",
        "    for a, b, yb in tqdm(train_loader, desc=f\"Epoch {epoch+1}\"):\n",
        "        a, b, yb = a.to(device), b.to(device), yb.to(device)\n",
        "        optimizer.zero_grad()\n",
        "        logits = model(a, b)\n",
        "        loss = criterion(logits, yb)\n",
        "        loss.backward()\n",
        "        optimizer.step()\n",
        "        total_loss += loss.item()\n",
        "    avg_loss = total_loss / len(train_loader)\n",
        "    train_loss_list.append(avg_loss)\n",
        "\n",
        "    # Validation\n",
        "    model.eval()\n",
        "    preds, trues = [], []\n",
        "    with torch.no_grad():\n",
        "        for a, b, yb in test_loader:\n",
        "            a, b = a.to(device), b.to(device)\n",
        "            probs = torch.sigmoid(model(a, b)).cpu().numpy()\n",
        "            preds.extend((probs > 0.5).astype(int))\n",
        "            trues.extend(yb.numpy())\n",
        "    f1 = f1_score(trues, preds, zero_division=0)\n",
        "    val_f1_list.append(f1)\n",
        "    print(f\"Epoch [{epoch+1}/30] | Loss: {avg_loss:.4f} | F1: {f1:.4f}\")\n",
        "    scheduler.step(f1)\n",
        "\n",
        "    if f1 >= best_f1:\n",
        "        best_f1 = f1\n",
        "        patience = 4\n",
        "        torch.save(model.state_dict(), \"/content/best_siamese_lstm.pt\")\n",
        "        print(f\"💾 모델 저장 (F1={best_f1:.4f})\")\n",
        "    else:\n",
        "        patience -= 1\n",
        "        if patience == 0:\n",
        "            print(\"🛑 Early stopping at epoch\", epoch+1)\n",
        "            break\n",
        "\n",
        "# ======================================\n",
        "# 7️⃣ 평가\n",
        "# ======================================\n",
        "model.load_state_dict(torch.load(\"/content/best_siamese_lstm.pt\"))\n",
        "model.eval()\n",
        "preds, trues = [], []\n",
        "with torch.no_grad():\n",
        "    for a, b, yb in test_loader:\n",
        "        a, b = a.to(device), b.to(device)\n",
        "        probs = torch.sigmoid(model(a, b)).cpu().numpy()\n",
        "        preds.extend((probs > 0.5).astype(int))\n",
        "        trues.extend(yb.numpy())\n",
        "\n",
        "print(\"\\n=== 최종 Classification Report (Siamese LSTM) ===\")\n",
        "print(classification_report(trues, preds, digits=4))\n",
        "\n",
        "plt.figure(figsize=(8,4))\n",
        "plt.plot(train_loss_list, label=\"Train Loss\", marker='o')\n",
        "plt.plot(val_f1_list, label=\"Validation F1\", marker='o')\n",
        "plt.title(\"Siamese LSTM Training (Shared Encoder)\")\n",
        "plt.xlabel(\"Epoch\")\n",
        "plt.legend()\n",
        "plt.grid()\n",
        "plt.show()\n"
      ],
      "metadata": {
        "id": "zaM6gBblyPkc",
        "outputId": "b44130d4-a39d-4a23-9bae-8c840f87d9ae",
        "colab": {
          "base_uri": "https://localhost:8080/",
          "height": 1000
        }
      },
      "execution_count": 7,
      "outputs": [
        {
          "output_type": "stream",
          "name": "stdout",
          "text": [
            "✅ Device: cpu\n",
            "⚠️ 누락된 매핑 0건 제외됨.\n",
            "입력 shape: (805, 512) (805, 512)\n",
            "데이터 분포: {np.float32(0.0): np.int64(200), np.float32(1.0): np.int64(605)}\n",
            "✅ 데이터 균형 조정 완료: [605 605]\n"
          ]
        },
        {
          "output_type": "stream",
          "name": "stderr",
          "text": [
            "Epoch 1: 100%|██████████| 31/31 [00:01<00:00, 22.64it/s]\n"
          ]
        },
        {
          "output_type": "stream",
          "name": "stdout",
          "text": [
            "Epoch [1/30] | Loss: 0.6906 | F1: 0.7763\n",
            "💾 모델 저장 (F1=0.7763)\n"
          ]
        },
        {
          "output_type": "stream",
          "name": "stderr",
          "text": [
            "Epoch 2: 100%|██████████| 31/31 [00:01<00:00, 16.70it/s]\n"
          ]
        },
        {
          "output_type": "stream",
          "name": "stdout",
          "text": [
            "Epoch [2/30] | Loss: 0.5672 | F1: 0.9183\n",
            "💾 모델 저장 (F1=0.9183)\n"
          ]
        },
        {
          "output_type": "stream",
          "name": "stderr",
          "text": [
            "Epoch 3: 100%|██████████| 31/31 [00:01<00:00, 17.26it/s]\n"
          ]
        },
        {
          "output_type": "stream",
          "name": "stdout",
          "text": [
            "Epoch [3/30] | Loss: 0.3193 | F1: 0.9270\n",
            "💾 모델 저장 (F1=0.9270)\n"
          ]
        },
        {
          "output_type": "stream",
          "name": "stderr",
          "text": [
            "Epoch 4: 100%|██████████| 31/31 [00:01<00:00, 22.35it/s]\n"
          ]
        },
        {
          "output_type": "stream",
          "name": "stdout",
          "text": [
            "Epoch [4/30] | Loss: 0.3011 | F1: 0.8746\n"
          ]
        },
        {
          "output_type": "stream",
          "name": "stderr",
          "text": [
            "Epoch 5: 100%|██████████| 31/31 [00:01<00:00, 23.21it/s]\n"
          ]
        },
        {
          "output_type": "stream",
          "name": "stdout",
          "text": [
            "Epoch [5/30] | Loss: 0.2620 | F1: 0.9434\n",
            "💾 모델 저장 (F1=0.9434)\n"
          ]
        },
        {
          "output_type": "stream",
          "name": "stderr",
          "text": [
            "Epoch 6: 100%|██████████| 31/31 [00:01<00:00, 22.89it/s]\n"
          ]
        },
        {
          "output_type": "stream",
          "name": "stdout",
          "text": [
            "Epoch [6/30] | Loss: 0.1849 | F1: 0.9398\n"
          ]
        },
        {
          "output_type": "stream",
          "name": "stderr",
          "text": [
            "Epoch 7: 100%|██████████| 31/31 [00:01<00:00, 22.33it/s]\n"
          ]
        },
        {
          "output_type": "stream",
          "name": "stdout",
          "text": [
            "Epoch [7/30] | Loss: 0.1619 | F1: 0.9348\n"
          ]
        },
        {
          "output_type": "stream",
          "name": "stderr",
          "text": [
            "Epoch 8: 100%|██████████| 31/31 [00:01<00:00, 22.59it/s]\n"
          ]
        },
        {
          "output_type": "stream",
          "name": "stdout",
          "text": [
            "Epoch [8/30] | Loss: 0.1434 | F1: 0.9434\n",
            "💾 모델 저장 (F1=0.9434)\n"
          ]
        },
        {
          "output_type": "stream",
          "name": "stderr",
          "text": [
            "Epoch 9: 100%|██████████| 31/31 [00:01<00:00, 22.94it/s]\n"
          ]
        },
        {
          "output_type": "stream",
          "name": "stdout",
          "text": [
            "Epoch [9/30] | Loss: 0.1168 | F1: 0.9506\n",
            "💾 모델 저장 (F1=0.9506)\n"
          ]
        },
        {
          "output_type": "stream",
          "name": "stderr",
          "text": [
            "Epoch 10: 100%|██████████| 31/31 [00:01<00:00, 18.94it/s]\n"
          ]
        },
        {
          "output_type": "stream",
          "name": "stdout",
          "text": [
            "Epoch [10/30] | Loss: 0.0977 | F1: 0.9538\n",
            "💾 모델 저장 (F1=0.9538)\n"
          ]
        },
        {
          "output_type": "stream",
          "name": "stderr",
          "text": [
            "Epoch 11: 100%|██████████| 31/31 [00:01<00:00, 16.08it/s]\n"
          ]
        },
        {
          "output_type": "stream",
          "name": "stdout",
          "text": [
            "Epoch [11/30] | Loss: 0.0825 | F1: 0.9575\n",
            "💾 모델 저장 (F1=0.9575)\n"
          ]
        },
        {
          "output_type": "stream",
          "name": "stderr",
          "text": [
            "Epoch 12: 100%|██████████| 31/31 [00:01<00:00, 21.35it/s]\n"
          ]
        },
        {
          "output_type": "stream",
          "name": "stdout",
          "text": [
            "Epoch [12/30] | Loss: 0.0747 | F1: 0.9502\n"
          ]
        },
        {
          "output_type": "stream",
          "name": "stderr",
          "text": [
            "Epoch 13: 100%|██████████| 31/31 [00:01<00:00, 22.92it/s]\n"
          ]
        },
        {
          "output_type": "stream",
          "name": "stdout",
          "text": [
            "Epoch [13/30] | Loss: 0.0770 | F1: 0.9494\n"
          ]
        },
        {
          "output_type": "stream",
          "name": "stderr",
          "text": [
            "Epoch 14: 100%|██████████| 31/31 [00:01<00:00, 22.25it/s]\n"
          ]
        },
        {
          "output_type": "stream",
          "name": "stdout",
          "text": [
            "Epoch [14/30] | Loss: 0.0655 | F1: 0.9470\n"
          ]
        },
        {
          "output_type": "stream",
          "name": "stderr",
          "text": [
            "Epoch 15: 100%|██████████| 31/31 [00:01<00:00, 23.23it/s]\n"
          ]
        },
        {
          "output_type": "stream",
          "name": "stdout",
          "text": [
            "Epoch [15/30] | Loss: 0.0617 | F1: 0.9502\n",
            "🛑 Early stopping at epoch 15\n",
            "\n",
            "=== 최종 Classification Report (Siamese LSTM) ===\n",
            "              precision    recall  f1-score   support\n",
            "\n",
            "         0.0     0.9469    0.9554    0.9511       112\n",
            "         1.0     0.9612    0.9538    0.9575       130\n",
            "\n",
            "    accuracy                         0.9545       242\n",
            "   macro avg     0.9541    0.9546    0.9543       242\n",
            "weighted avg     0.9546    0.9545    0.9546       242\n",
            "\n"
          ]
        },
        {
          "output_type": "display_data",
          "data": {
            "text/plain": [
              "<Figure size 800x400 with 1 Axes>"
            ],
            "image/png": "[encoded data removed]"
          },
          "metadata": {}
        }
      ]
    }
  ],
  "metadata": {
    "colab": {
      "name": "Colab 시작하기",
      "provenance": [],
      "include_colab_link": true
    },
    "kernelspec": {
      "display_name": "Python 3",
      "name": "python3"
    }
  },
  "nbformat": 4,
  "nbformat_minor": 0
}