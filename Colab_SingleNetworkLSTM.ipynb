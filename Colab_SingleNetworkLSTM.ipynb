{
  "cells": [
    {
      "cell_type": "markdown",
      "metadata": {
        "id": "view-in-github",
        "colab_type": "text"
      },
      "source": [
        "<a href=\"https://colab.research.google.com/github/dpqhd01/medical_cap/blob/main/Colab_SingleNetworkLSTM.ipynb\" target=\"_parent\"><img src=\"https://colab.research.google.com/assets/colab-badge.svg\" alt=\"Open In Colab\"/></a>"
      ]
    },
    {
      "cell_type": "code",
      "source": [
        "# ======================================\n",
        "# 🔧 라이브러리\n",
        "# ======================================\n",
        "import pandas as pd\n",
        "import numpy as np\n",
        "import torch\n",
        "import torch.nn as nn\n",
        "from torch.utils.data import Dataset, DataLoader\n",
        "from sklearn.metrics import classification_report, f1_score\n",
        "from sklearn.model_selection import train_test_split\n",
        "from tqdm import tqdm\n",
        "import matplotlib.pyplot as plt\n",
        "\n",
        "device = torch.device(\"cuda\" if torch.cuda.is_available() else \"cpu\")\n",
        "print(\"✅ Device:\", device)\n",
        "\n",
        "# ======================================\n",
        "# 1️⃣ CSV 불러오기\n",
        "# ======================================\n",
        "trial = pd.read_csv(\"/content/trial_embeddings.csv\")\n",
        "orpha = pd.read_csv(\"/content/orpanet_embeddings.csv\")\n",
        "\n",
        "print(\"Trial shape:\", trial.shape)\n",
        "print(\"Orphanet shape:\", orpha.shape)\n",
        "\n",
        "# 벡터 부분만 추출 (첫 컬럼 제외)\n",
        "trial_vecs = trial.iloc[:, 1:].values.astype(np.float32)\n",
        "orpha_vecs = orpha.iloc[:, 1:].values.astype(np.float32)\n",
        "\n",
        "# 차원 확인\n",
        "assert trial_vecs.shape[1] == orpha_vecs.shape[1], \"⚠️ 두 임베딩의 차원이 다릅니다!\"\n",
        "\n",
        "embedding_dim = trial_vecs.shape[1]\n",
        "print(f\"✅ 임베딩 차원: {embedding_dim}\")\n",
        "\n",
        "# ======================================\n",
        "# 2️⃣ 입력 시퀀스 생성\n",
        "# ======================================\n",
        "# 예시: Orphanet과 Trial을 각각 쌍으로 연결 (순서 맞추기 or 랜덤 샘플링)\n",
        "n = min(len(orpha_vecs), len(trial_vecs))\n",
        "pairs = []\n",
        "labels = []\n",
        "\n",
        "for i in range(n):\n",
        "    pairs.append(np.stack([orpha_vecs[i], trial_vecs[i]], axis=0))  # 매칭쌍 → label=1\n",
        "    labels.append(1)\n",
        "\n",
        "# 불일치 샘플도 일부 섞기\n",
        "for i in range(n):\n",
        "    j = np.random.randint(0, n)\n",
        "    pairs.append(np.stack([orpha_vecs[i], trial_vecs[j]], axis=0))  # 랜덤쌍 → label=0\n",
        "    labels.append(0)\n",
        "\n",
        "pairs = np.array(pairs)   # (2n, 2, 512)\n",
        "labels = np.array(labels)\n",
        "\n",
        "print(\"✅ 입력 shape:\", pairs.shape, \"| 라벨 수:\", len(labels))\n",
        "\n",
        "# ======================================\n",
        "# 3️⃣ Dataset 정의\n",
        "# ======================================\n",
        "class EmbeddingDataset(Dataset):\n",
        "    def __init__(self, X, y):\n",
        "        self.X = torch.tensor(X, dtype=torch.float32)\n",
        "        self.y = torch.tensor(y, dtype=torch.float32)\n",
        "    def __len__(self): return len(self.X)\n",
        "    def __getitem__(self, idx): return self.X[idx], self.y[idx]\n",
        "\n",
        "X_train, X_test, y_train, y_test = train_test_split(pairs, labels, test_size=0.2, random_state=42)\n",
        "train_ds = EmbeddingDataset(X_train, y_train)\n",
        "test_ds = EmbeddingDataset(X_test, y_test)\n",
        "train_loader = DataLoader(train_ds, batch_size=32, shuffle=True)\n",
        "test_loader = DataLoader(test_ds, batch_size=32)\n",
        "\n",
        "# ======================================\n",
        "# 4️⃣ LSTM 인코더 정의\n",
        "# ======================================\n",
        "class LSTMVectorEncoder(nn.Module):\n",
        "    def __init__(self, input_dim, hidden_dim=128):\n",
        "        super(LSTMVectorEncoder, self).__init__()\n",
        "        self.lstm = nn.LSTM(input_dim, hidden_dim, batch_first=True)\n",
        "        self.dropout = nn.Dropout(0.3)\n",
        "        self.fc = nn.Linear(hidden_dim, 1)\n",
        "    def forward(self, x):\n",
        "        _, (h, _) = self.lstm(x)\n",
        "        h = self.dropout(h[-1])\n",
        "        out = self.fc(h)\n",
        "        return torch.sigmoid(out).squeeze()\n",
        "\n",
        "model = LSTMVectorEncoder(input_dim=embedding_dim).to(device)\n",
        "criterion = nn.BCELoss()\n",
        "optimizer = torch.optim.Adam(model.parameters(), lr=1e-3)\n",
        "\n",
        "# ======================================\n",
        "# 5️⃣ 학습 루프\n",
        "# ======================================\n",
        "train_loss_list, val_f1_list = [], []\n",
        "\n",
        "for epoch in range(10):\n",
        "    model.train()\n",
        "    total_loss = 0\n",
        "    for Xb, yb in tqdm(train_loader, desc=f\"Epoch {epoch+1}\"):\n",
        "        Xb, yb = Xb.to(device), yb.to(device)\n",
        "        optimizer.zero_grad()\n",
        "        outputs = model(Xb)\n",
        "        loss = criterion(outputs, yb)\n",
        "        loss.backward()\n",
        "        optimizer.step()\n",
        "        total_loss += loss.item()\n",
        "    avg_loss = total_loss / len(train_loader)\n",
        "    train_loss_list.append(avg_loss)\n",
        "\n",
        "    # 검증\n",
        "    model.eval()\n",
        "    all_preds, all_labels = [], []\n",
        "    with torch.no_grad():\n",
        "        for Xb, yb in test_loader:\n",
        "            Xb = Xb.to(device)\n",
        "            probs = model(Xb).cpu().numpy()\n",
        "            preds = (probs > 0.5).astype(int)\n",
        "            all_preds.extend(preds)\n",
        "            all_labels.extend(yb.numpy())\n",
        "    f1 = f1_score(all_labels, all_preds)\n",
        "    val_f1_list.append(f1)\n",
        "    print(f\"Epoch [{epoch+1}/10] | Loss: {avg_loss:.4f} | F1: {f1:.4f}\")\n",
        "\n",
        "# ======================================\n",
        "# 6️⃣ 최종 평가\n",
        "# ======================================\n",
        "print(\"\\n=== 최종 Classification Report (Single LSTM Encoder on Embeddings) ===\")\n",
        "print(classification_report(all_labels, all_preds, digits=4))\n",
        "\n",
        "plt.figure(figsize=(8,4))\n",
        "plt.plot(train_loss_list, label=\"Training Loss\", marker='o')\n",
        "plt.plot(val_f1_list, label=\"Validation F1\", marker='o')\n",
        "plt.title(\"LSTM Encoder on Embeddings (Orpha + Trial)\")\n",
        "plt.xlabel(\"Epoch\")\n",
        "plt.ylabel(\"Loss / F1\")\n",
        "plt.legend()\n",
        "plt.grid()\n",
        "plt.show()\n"
      ],
      "metadata": {
        "id": "8Kdq9g8N3Fo4",
        "colab": {
          "base_uri": "https://localhost:8080/",
          "height": 1000
        },
        "outputId": "4146699c-92b3-44c1-e405-0870a53ca3ea"
      },
      "execution_count": 1,
      "outputs": [
        {
          "output_type": "stream",
          "name": "stdout",
          "text": [
            "✅ Device: cpu\n",
            "Trial shape: (100, 513)\n",
            "Orphanet shape: (22501, 513)\n",
            "✅ 임베딩 차원: 512\n",
            "✅ 입력 shape: (200, 2, 512) | 라벨 수: 200\n"
          ]
        },
        {
          "output_type": "stream",
          "name": "stderr",
          "text": [
            "Epoch 1: 100%|██████████| 5/5 [00:00<00:00, 22.32it/s]\n"
          ]
        },
        {
          "output_type": "stream",
          "name": "stdout",
          "text": [
            "Epoch [1/10] | Loss: 0.6950 | F1: 0.4082\n"
          ]
        },
        {
          "output_type": "stream",
          "name": "stderr",
          "text": [
            "Epoch 2: 100%|██████████| 5/5 [00:00<00:00, 106.89it/s]\n"
          ]
        },
        {
          "output_type": "stream",
          "name": "stdout",
          "text": [
            "Epoch [2/10] | Loss: 0.6925 | F1: 0.1176\n"
          ]
        },
        {
          "output_type": "stream",
          "name": "stderr",
          "text": [
            "Epoch 3: 100%|██████████| 5/5 [00:00<00:00, 127.30it/s]\n"
          ]
        },
        {
          "output_type": "stream",
          "name": "stdout",
          "text": [
            "Epoch [3/10] | Loss: 0.6921 | F1: 0.0000\n"
          ]
        },
        {
          "output_type": "stream",
          "name": "stderr",
          "text": [
            "Epoch 4: 100%|██████████| 5/5 [00:00<00:00, 118.67it/s]\n"
          ]
        },
        {
          "output_type": "stream",
          "name": "stdout",
          "text": [
            "Epoch [4/10] | Loss: 0.6915 | F1: 0.0667\n"
          ]
        },
        {
          "output_type": "stream",
          "name": "stderr",
          "text": [
            "Epoch 5: 100%|██████████| 5/5 [00:00<00:00, 115.98it/s]\n"
          ]
        },
        {
          "output_type": "stream",
          "name": "stdout",
          "text": [
            "Epoch [5/10] | Loss: 0.6904 | F1: 0.0000\n"
          ]
        },
        {
          "output_type": "stream",
          "name": "stderr",
          "text": [
            "Epoch 6: 100%|██████████| 5/5 [00:00<00:00, 117.71it/s]\n"
          ]
        },
        {
          "output_type": "stream",
          "name": "stdout",
          "text": [
            "Epoch [6/10] | Loss: 0.6895 | F1: 0.0000\n"
          ]
        },
        {
          "output_type": "stream",
          "name": "stderr",
          "text": [
            "Epoch 7: 100%|██████████| 5/5 [00:00<00:00, 117.65it/s]\n"
          ]
        },
        {
          "output_type": "stream",
          "name": "stdout",
          "text": [
            "Epoch [7/10] | Loss: 0.6887 | F1: 0.0645\n"
          ]
        },
        {
          "output_type": "stream",
          "name": "stderr",
          "text": [
            "Epoch 8: 100%|██████████| 5/5 [00:00<00:00, 111.97it/s]\n"
          ]
        },
        {
          "output_type": "stream",
          "name": "stdout",
          "text": [
            "Epoch [8/10] | Loss: 0.6872 | F1: 0.0645\n"
          ]
        },
        {
          "output_type": "stream",
          "name": "stderr",
          "text": [
            "Epoch 9: 100%|██████████| 5/5 [00:00<00:00, 123.47it/s]\n"
          ]
        },
        {
          "output_type": "stream",
          "name": "stdout",
          "text": [
            "Epoch [9/10] | Loss: 0.6861 | F1: 0.0645\n"
          ]
        },
        {
          "output_type": "stream",
          "name": "stderr",
          "text": [
            "Epoch 10: 100%|██████████| 5/5 [00:00<00:00, 121.35it/s]\n"
          ]
        },
        {
          "output_type": "stream",
          "name": "stdout",
          "text": [
            "Epoch [10/10] | Loss: 0.6849 | F1: 0.0000\n",
            "\n",
            "=== 최종 Classification Report (Single LSTM Encoder on Embeddings) ===\n",
            "              precision    recall  f1-score   support\n",
            "\n",
            "         0.0     0.3226    0.5263    0.4000        19\n",
            "         1.0     0.0000    0.0000    0.0000        21\n",
            "\n",
            "    accuracy                         0.2500        40\n",
            "   macro avg     0.1613    0.2632    0.2000        40\n",
            "weighted avg     0.1532    0.2500    0.1900        40\n",
            "\n"
          ]
        },
        {
          "output_type": "display_data",
          "data": {
            "text/plain": [
              "<Figure size 800x400 with 1 Axes>"
            ],
            "image/png": "[encoded data removed]"
          },
          "metadata": {}
        }
      ]
    }
  ],
  "metadata": {
    "colab": {
      "name": "Colab 시작하기",
      "provenance": [],
      "include_colab_link": true
    },
    "kernelspec": {
      "display_name": "Python 3",
      "name": "python3"
    }
  },
  "nbformat": 4,
  "nbformat_minor": 0
}